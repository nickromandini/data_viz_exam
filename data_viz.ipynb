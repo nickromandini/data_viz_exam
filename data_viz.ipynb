{
 "cells": [
  {
   "attachments": {},
   "cell_type": "markdown",
   "metadata": {},
   "source": [
    "<h1>DATA VISUALIZATION FOR SCIENTISTS EXAM</h1>\n",
    "<h2>Nicolò Romandini</h2> Matricola: 0001023921 PhD Course: DATA VISUALIZATION FOR SCIENTISTS"
   ]
  }
 ],
 "metadata": {
  "language_info": {
   "name": "python"
  },
  "orig_nbformat": 4
 },
 "nbformat": 4,
 "nbformat_minor": 2
}
